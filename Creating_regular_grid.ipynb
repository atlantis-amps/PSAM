{
 "cells": [
  {
   "attachments": {},
   "cell_type": "markdown",
   "metadata": {},
   "source": [
    "## this code will generate the new gridd based on the max and min latitude from the unstructure grid"
   ]
  },
  {
   "cell_type": "code",
   "execution_count": 57,
   "metadata": {},
   "outputs": [],
   "source": [
    "## reading the input lat and lon from the Model\n",
    "import xarray as xr\n",
    "import numpy as np\n",
    "import netCDF4\n",
    "import datetime as dt\n",
    "import os\n",
    "\n",
    "#Read the solution (one specific filename) or solutions (based on the directory)\n",
    "#if you are using specific filename\n",
    "filename=\"SSM_v43_2018_0001.nc\"\n",
    "ssm_solution=xr.open_dataset(filename, decode_times=False, drop_variables=['siglev','siglay'])\n",
    "min_lat = ssm_solution.lat.min().values\n",
    "max_lat = ssm_solution.lat.max().values\n",
    "min_lon = ssm_solution.lon.min().values\n",
    "max_lon = ssm_solution.lon.max().values\n",
    "\n"
   ]
  },
  {
   "cell_type": "code",
   "execution_count": 53,
   "metadata": {},
   "outputs": [
    {
     "name": "stdout",
     "output_type": "stream",
     "text": [
      "72 79\n"
     ]
    }
   ],
   "source": [
    "\n",
    "stepsize = 0.1\n",
    "lon_vector = np.arange(min_lon, max_lon, stepsize)\n",
    "lat_vector = np.arange(min_lat, max_lat, stepsize)\n",
    "size_lon   = len(lon_vector)\n",
    "size_lat   = len(lat_vector)\n",
    "print(size_lon, size_lat)\n",
    "longitude   = np.zeros((size_lon,size_lat))\n",
    "\n",
    "latitude   = np.zeros((size_lon,size_lat))\n",
    "for rows in range(size_lon):\n",
    "    latitude[rows,:] = lat_vector\n",
    "\n",
    "for columns in range(size_lat):\n",
    "    longitude[:,columns]=lon_vector\n",
    "\n"
   ]
  },
  {
   "cell_type": "code",
   "execution_count": 61,
   "metadata": {},
   "outputs": [],
   "source": [
    "data_path = r'/home/por07g/Documents/Projects/Salish_sea_puget_sound'\n",
    "\n",
    "nc = netCDF4.Dataset(os.path.join(data_path,'regular_grid.nc'), 'w')\n",
    "# Global attributes\n",
    "nc.title = 'Regular grid for the Salish Sea model'\n",
    "nc.Conventions = 'CF-1.6'\n",
    "nc.history = '{0} creation of regular grid netcdf file by Javier Porobic.'.format(\n",
    "    dt.datetime.now().strftime(\"%Y-%m-%d\") )\n",
    "lat_dim = nc.createDimension('latitude', size_lat)\n",
    "lon_dim = nc.createDimension('longitude', size_lon)\n",
    "\n",
    "# Create variables\n",
    "lat_var = nc.createVariable('latitude', np.float64, ('latitude'))\n",
    "lat_var.units = 'degrees_north'\n",
    "lat_var.standard_name = 'latitude'\n",
    "lat_var.axis = 'Y'\n",
    "\n",
    "lon_var = nc.createVariable('longitude', np.float64, ('longitude'))\n",
    "lon_var.units = 'degrees_east'\n",
    "lon_var.standard_name = 'longitude'\n",
    "lon_var.axis = 'X'\n",
    "\n",
    "# Load values: latitude and longitude\n",
    "lat_var[:] = lat_vector\n",
    "lon_var[:] = lon_vector\n",
    "\n",
    "nc.close()\n"
   ]
  },
  {
   "cell_type": "code",
   "execution_count": null,
   "metadata": {},
   "outputs": [],
   "source": []
  }
 ],
 "metadata": {
  "kernelspec": {
   "display_name": "GBR_env",
   "language": "python",
   "name": "python3"
  },
  "language_info": {
   "codemirror_mode": {
    "name": "ipython",
    "version": 3
   },
   "file_extension": ".py",
   "mimetype": "text/x-python",
   "name": "python",
   "nbconvert_exporter": "python",
   "pygments_lexer": "ipython3",
   "version": "3.9.12"
  },
  "orig_nbformat": 4
 },
 "nbformat": 4,
 "nbformat_minor": 2
}
